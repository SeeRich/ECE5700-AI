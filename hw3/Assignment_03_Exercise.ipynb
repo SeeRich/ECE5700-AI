{
 "cells": [
  {
   "cell_type": "markdown",
   "metadata": {
    "id": "zmwWs4S9cRIn"
   },
   "source": [
    "# ECE 57000 Assignment 3 Exercise\n",
    "\n",
    "Your Name: Cole Richardson"
   ]
  },
  {
   "cell_type": "markdown",
   "metadata": {},
   "source": [
    "Prepare the pacakge we will use."
   ]
  },
  {
   "cell_type": "code",
   "execution_count": 29,
   "metadata": {},
   "outputs": [],
   "source": [
    "import time\n",
    "from typing import List, Dict\n",
    "\n",
    "import torch\n",
    "import torch.nn as nn\n",
    "import torch.optim as optim\n",
    "import torch.nn.functional as F\n",
    "import torchvision\n",
    "import torchvision.models as models\n",
    "import torchvision.transforms as transforms\n",
    "\n",
    "import matplotlib.pyplot as plt"
   ]
  },
  {
   "cell_type": "markdown",
   "metadata": {
    "id": "Vmlsa88cqmib"
   },
   "source": [
    "## Exercise 0: Train your model on GPU (0 points)"
   ]
  },
  {
   "cell_type": "markdown",
   "metadata": {
    "id": "WfirXJR3qvB0"
   },
   "source": [
    "Some tasks in this assignment can take a long time if you run it on the CPU. For example, based on our solution of Exercise 3 Task 4 (Transfer Learning: finetuning of a pretrained model (resnet18)), it will take roughly 2 hours to train the model end-to-end (complete model and not only the last fc layer) for 1 epoch on CPU. Hence, we highly recommend you try to train your model on GPU.\n",
    "\n",
    "To do so, first you need to enable GPU on Colab (this will restart the runtime). Click `Runtime`-> `Change runtime type` and select the `Hardware accelerator` there.  You can then run the following code to see if the GPU is correctly initialized and available.\n",
    "\n",
    "**Note**: If you would like to avoid GPU overages on Colab, we would suggest writing and debugging your code before switching on the GPU runtime. Otherwise, the time you spent debugging code will likely count against your GPU usage. Once you have the code running, you can switch on the GPU runtime and train the model much faster."
   ]
  },
  {
   "cell_type": "code",
   "execution_count": 30,
   "metadata": {
    "colab": {
     "base_uri": "https://localhost:8080/"
    },
    "id": "TT7wKvilvBvX",
    "outputId": "227012f8-ae8f-416a-c7b3-8c64b9ea5d7b"
   },
   "outputs": [
    {
     "name": "stdout",
     "output_type": "stream",
     "text": [
      "Can I can use CUDA now? -- False\n",
      "Can I use Metal Performance Shaders now? -- True\n"
     ]
    }
   ],
   "source": [
    "print(f'Can I can use CUDA now? -- {torch.cuda.is_available()}')\n",
    "print(f'Can I use Metal Performance Shaders now? -- {torch.backends.mps.is_available()}')"
   ]
  },
  {
   "cell_type": "markdown",
   "metadata": {
    "id": "hnPPDoA7vQWp"
   },
   "source": [
    "### You must manually move your model and data to the GPU (and sometimes back to the cpu)\n",
    "After setting the GPU up on colab, then you should put your **model** and **data** to GPU. We give a simple example below. You can use `to` function for this task. See [torch.Tensor.to](https://pytorch.org/docs/stable/generated/torch.Tensor.to.html) to move a tensor to the GPU (probably your mini-batch of data in each iteration) or [torch.nn.Module.to](https://pytorch.org/docs/stable/generated/torch.nn.Module.html#torch.nn.Module.to) to move your NN model to GPU (assuming you create subclass [torch.nn.Module](https://pytorch.org/docs/stable/generated/torch.nn.Module.html)). Note that `to()` of tensor returns a NEW tensor while `to` of a NN model will apply this in-place. To be safe, the best semantics are `obj = obj.to(device)`. For printing, you will need to move a tensor back to the CPU via the `cpu()` function.\n",
    "\n",
    "Once the model and input data are on the GPU, everything else can be done the same.  This is the beauty of PyTorch GPU acceleration.  None of the other code needs to be altered.\n",
    "\n",
    "To summarize, you need to 1) enable GPU acceleration in Colab, 2) put the model on the GPU, and 3) put the input data (i.e., the batch of samples) onto the GPU using `to()` after it is loaded by the data loaders (usually you only put one batch of data on the GPU at a time)."
   ]
  },
  {
   "cell_type": "code",
   "execution_count": 31,
   "metadata": {
    "colab": {
     "base_uri": "https://localhost:8080/"
    },
    "id": "lUdR8v7Kt-6S",
    "outputId": "1fb693ec-5e2c-423f-8f11-39308d96b9bd"
   },
   "outputs": [
    {
     "name": "stdout",
     "output_type": "stream",
     "text": [
      "input is on cpu\n",
      "model parameters are on [['cpu', torch.Size([10, 2])], ['cpu', torch.Size([10])], ['cpu', torch.Size([1, 10])], ['cpu', torch.Size([1])]]\n",
      "output is on cpu\n",
      "input is on mps:0\n",
      "model parameters are on [['mps', torch.Size([10, 2])], ['mps', torch.Size([10])], ['mps', torch.Size([1, 10])], ['mps', torch.Size([1])]]\n",
      "output is on mps:0\n"
     ]
    }
   ],
   "source": [
    "rand_tensor = torch.rand(5,2)\n",
    "simple_model = nn.Sequential(nn.Linear(2,10), nn.ReLU(), nn.Linear(10,1))\n",
    "print(f'input is on {rand_tensor.device}')\n",
    "print(f'model parameters are on {[[param.device.type, param.size()] for param in simple_model.parameters()]}')\n",
    "print(f'output is on {simple_model(rand_tensor).device}')\n",
    "\n",
    "# Use CUDA or Metal Performance Shaders (mps) if available for hardware acceleration\n",
    "device = torch.device('cpu')\n",
    "if torch.cuda.is_available():\n",
    "    device = torch.device('cuda')\n",
    "elif torch.backends.mps.is_available():\n",
    "    device = torch.device('mps')\n",
    "\n",
    "# ----------- <Your code> ---------------\n",
    "# Move rand_tensor and model onto the GPU device\n",
    "rand_tensor = rand_tensor.to(device)\n",
    "simple_model = simple_model.to(device)\n",
    "\n",
    "# --------- <End your code> -------------\n",
    "print(f'input is on {rand_tensor.device}')\n",
    "print(f'model parameters are on {[[param.device.type, param.size()] for param in simple_model.parameters()]}')\n",
    "print(f'output is on {simple_model(rand_tensor).device}')"
   ]
  },
  {
   "cell_type": "markdown",
   "metadata": {
    "id": "Zz2T0QYYpwVR"
   },
   "source": [
    "## Exercise 1: Why use a CNN rather than only fully connected layers? (40 points)\n",
    "\n",
    "In this exercise, you will build two models for the **MNIST** dataset: one uses only fully connected layers and another uses a standard CNN layout (convolution layers everywhere except the last layer is fully connected layer). Note, you will need to use cross entropy loss as your objective function. The two models should be built with roughly the same accuracy performance, your task is to compare the number of network parameters (a huge number of parameters can affect training/testing time, memory requirements, overfitting, etc.)."
   ]
  },
  {
   "cell_type": "markdown",
   "metadata": {},
   "source": [
    "### Task 1: Prepare train and test function\n",
    "\n",
    "We will create our train and test procedure in these two functions. The train function should apply one epoch of training. The functions inputs should take everything we need for training and testing and return some logs.\n",
    "\n",
    "#### Arguments requirement:\n",
    "* For the `train` function, it takes the `model`, `loss_fn`, `optimizer`, `train_loader`, and `epoch` as arguments.\n",
    "    * `model`: the classifier, or deep neural network, should be an instance of `nn.Module`.\n",
    "    * `loss_fn`: the loss function instance. For example, `nn.CrossEntropy()`, or `nn.L1Loss()`, etc.\n",
    "    * `optimizer`: should be an instance of `torch.optim.Optimizer`. For example, it could be `optim.SGD()` or `optim.Adam()`, etc.\n",
    "    * `train_loader`: should be an instance of `torch.utils.data.DataLoader`.\n",
    "    * `epoch`: the current number of epoch. Only used for log printing.(default: 1.) \n",
    "\n",
    "* For the `test` function, it takes all the inputs above except for the optimizer (and it takes a test loader instead of a train loader).\n",
    "\n",
    "#### Log requirement:\n",
    "Here are some further requirements:\n",
    "* In the `train` function, print the log 8-10 times per epoch. The print statement should be: \n",
    "```python\n",
    "print(f'Epoch {epoch}: [{batch_idx*len(images)}/{len(train_loader.dataset)}] Loss: {loss.item():.3f}')\n",
    "```\n",
    "* In the `test` function, print the log after the testing. The print statement is: \n",
    "```python\n",
    "print(f\"Test result on epoch {epoch}: total sample: {total_num}, Avg loss: {test_stat['loss']:.3f}, Acc: {100*test_stat['accuracy']:.3f}%\")\n",
    "```\n",
    "\n",
    "#### Return requirement \n",
    "* The `train` function should return a list, which the element is the loss per batch, i.e., one loss value for every batch.\n",
    "* The `test` function should return a dictionary with three keys: \"loss\", \"accuracy\", and \"prediction\". The values are the average loss of all the testset, average accuracy of all the test dataset, and the prediction of all test dataset.\n",
    "\n",
    "#### Other requirement:\n",
    "* In the `train` function, the model should be updated in-place, i.e., do not copy the model inside `train` function."
   ]
  },
  {
   "cell_type": "code",
   "execution_count": 32,
   "metadata": {},
   "outputs": [],
   "source": [
    "def train(model: nn.Module, \n",
    "          loss_fn: nn.modules.loss._Loss, \n",
    "          optimizer: torch.optim.Optimizer, \n",
    "          train_loader: torch.utils.data.DataLoader, \n",
    "          epoch: int=0)-> List:\n",
    "    # ----------- <Your code> ---------------\n",
    "    train_loss = []\n",
    "\n",
    "    # Set model to training mode\n",
    "    model.train()\n",
    "\n",
    "    # Loop over the data in batches for a single epoch\n",
    "    for batch_idx, (images, targets) in enumerate(train_loader):\n",
    "        # Zero the gradient\n",
    "        optimizer.zero_grad()\n",
    "        # move the data to the device\n",
    "        images, targets = images.to(device), targets.to(device)\n",
    "        # Model forward evaluation\n",
    "        output = model(images)\n",
    "        # Calculate loss\n",
    "        loss = loss_fn(output, targets)\n",
    "        # Gradient of loss function\n",
    "        loss.backward()\n",
    "        # Gradient evaluation and backward propagation\n",
    "        optimizer.step()\n",
    "\n",
    "        train_loss.append(loss.item()) # item() is to get the value of the tensor directly\n",
    "        if batch_idx % 100 == 0: # We log our output every 100 batches\n",
    "            print(f'Epoch {epoch}: [{batch_idx*len(images)}/{len(train_loader.dataset)}] Loss: {loss.item()}')\n",
    "    # ----------- <End Your code> ---------------\n",
    "    assert len(train_loss) == len(train_loader)\n",
    "    return train_loss\n",
    "\n",
    "def test(model: nn.Module, \n",
    "         loss_fn: nn.modules.loss._Loss, \n",
    "         test_loader: torch.utils.data.DataLoader, \n",
    "         epoch: int=0)-> Dict:\n",
    "    # ----------- <Your code> ---------------\n",
    "    # Set the model to evaluation mode (i.e. not training)\n",
    "    model.eval()\n",
    "\n",
    "    test_loss = 0\n",
    "    predictions = []\n",
    "    correct = 0\n",
    "\n",
    "    with torch.no_grad():\n",
    "        for images, targets in test_loader:\n",
    "            # Move the data to the device\n",
    "            images, targets = images.to(device), targets.to(device)\n",
    "            # Evaluate the model on the batch\n",
    "            output = model(images)\n",
    "            test_loss += loss_fn(output, targets).item() * images.size(0) # sum up batch loss\n",
    "            pred = output.data.max(1, keepdim=True)[1] # we get the estimate of our result by look at the largest class value\n",
    "            correct += pred.eq(targets.data.view_as(pred)).sum() # sum up the corrected samples\n",
    "            predictions.append(pred)\n",
    "\n",
    "    # Number of total test samples\n",
    "    total_num = len(test_loader.dataset)\n",
    "    # Create output dictionary\n",
    "    test_stat = {}\n",
    "    # Average loss over epoch\n",
    "    test_stat['loss'] = test_loss / total_num\n",
    "    # Average accuracy\n",
    "    test_stat['accuracy'] = correct / total_num\n",
    "    # Predictions\n",
    "    test_stat['prediction'] = torch.cat(predictions)\n",
    "\n",
    "    print(f\"Test result on epoch {epoch}: total samples: {total_num}, Avg loss: {test_stat['loss']:.3f}, Acc: {100*test_stat['accuracy']:.3f}%\")\n",
    "    # ----------- <Your code> ---------------\n",
    "    # dictionary should include loss, accuracy and prediction\n",
    "    assert \"loss\" and \"accuracy\" and \"prediction\" in test_stat.keys()\n",
    "    # \"prediction\" value should be a 1D tensor\n",
    "    assert len(test_stat[\"prediction\"]) == len(test_loader.dataset)\n",
    "    assert isinstance(test_stat[\"prediction\"], torch.Tensor)\n",
    "    return test_stat\n"
   ]
  },
  {
   "cell_type": "markdown",
   "metadata": {
    "id": "DFKqew7r-E-q"
   },
   "source": [
    "### Task 2: Following the structure used in the instructions, you should create\n",
    "\n",
    "*   One network named `OurFC` which should consist with only fully connected layers\n",
    "\n",
    "  *   You should decide how many layers and how many hidden dimensions you want in your network \n",
    "  *   Your final accuracy on the test dataset should lie roughly around 97% ($\\pm$2%)\n",
    "  *   There is no need to make the neural network unnecessarily complex, your total training time should no longer than 3 mins\n",
    "\n",
    "*   Another network named `OurCNN` which applys a standard CNN structure\n",
    "  *   Again, you should decide how many layers and how many channels you want for each layer.\n",
    "  *   Your final accuracy on the test dataset should lie roughly around 97% ($\\pm$2%)\n",
    "  *   A standard CNN structure can be composed as **[Conv2d, MaxPooling, ReLU] x num_conv_layers + FC x num_fc_layers**\n",
    "\n",
    "* Train and test your network on MNIST data as in the instructions. \n",
    "* Notice You can always use the `train` and `test` function you write throughout this assignment.\n",
    "* The code below will also print out the number of parameters for both neural networks to allow comparison.\n",
    "* (You can use multiple cells if helpful but make sure to run all of them to receive credit.)\n"
   ]
  },
  {
   "cell_type": "code",
   "execution_count": 33,
   "metadata": {
    "id": "8XfvgD-jt-Ye"
   },
   "outputs": [
    {
     "name": "stdout",
     "output_type": "stream",
     "text": [
      "Dataset MNIST\n",
      "    Number of datapoints: 60000\n",
      "    Root location: data\n",
      "    Split: Train\n",
      "    StandardTransform\n",
      "Transform: Compose(\n",
      "               ToTensor()\n",
      "               Normalize(mean=(0.1307,), std=(0.3081,))\n",
      "           )\n"
     ]
    }
   ],
   "source": [
    "# Download MNIST and transformation\n",
    "# ----------- <Your code> ---------------\n",
    "import torchvision\n",
    "\n",
    "\"\"\"\n",
    "Here the transform is a pipeline containing two seperate transforms: \n",
    "1. Transform the data into tensor type\n",
    "2. Normalize the dataset by a giving mean and std. \n",
    "  (Those number is given as the global mean and standard deviation of MNIST dataset)\n",
    "\"\"\"\n",
    "transform = torchvision.transforms.Compose([torchvision.transforms.ToTensor(),\n",
    "                      torchvision.transforms.Normalize((0.1307,),(0.3081,))])\n",
    "\n",
    "train_dataset = torchvision.datasets.MNIST('data', train=True, download=True, transform=transform)\n",
    "test_dataset = torchvision.datasets.MNIST('data', train=False, download=True, transform=transform)\n",
    "\n",
    "print(train_dataset)\n",
    "# ----------- <End Your code> -------------"
   ]
  },
  {
   "cell_type": "code",
   "execution_count": 34,
   "metadata": {
    "id": "ccYESqrsxNXA"
   },
   "outputs": [],
   "source": [
    "# Build OurFC class and OurCNN class.\n",
    "# ----------- <Your code> ---------------\n",
    "import torch.nn as nn\n",
    "import torch.nn.functional as F\n",
    "\n",
    "class OurFC(nn.Module):\n",
    "\n",
    "  def __init__(self):\n",
    "    super().__init__()\n",
    "\n",
    "    # 1x28x28 = 784\n",
    "    self.fc1 = nn.Linear(784, 1024)\n",
    "    self.fc2 = nn.Linear(1024, 128)\n",
    "    self.fc3 = nn.Linear(128, 10)\n",
    "\n",
    "  def forward(self, x):\n",
    "    x = x.view(-1, 784)         # flatten the input (batchsize x 784)\n",
    "    x = F.relu(self.fc1(x))     # x now has shape (batchsize x 300)\n",
    "    x = F.relu(self.fc2(x))     # x has shape (batchsize x 100)\n",
    "    x = self.fc3(x)             # x has shape (batchsize x 10)\n",
    "    return F.log_softmax(x,-1) \n",
    "\n",
    "\n",
    "class OurCNN(nn.Module):\n",
    "    def __init__(self):\n",
    "        super().__init__()\n",
    "        # Input size = batchsize x 1 x 28 x 28\n",
    "        self.conv1 = nn.Conv2d(1, 10, 5, 1, padding=2) # output size = batchsize x 10 x 28 x 28\n",
    "        self.pool1 = nn.MaxPool2d(2, 1) # output size = batchsize x 10 x 27 x 27\n",
    "        self.conv2 = nn.Conv2d(10, 20, 5, 1) # output size = batchsize x 20 x 23 x 23\n",
    "        self.pool2 = nn.MaxPool2d(2, 2) # output size = batchsize x 20 x 11 x 11\n",
    "        # 20 * 11 * 11 = 2420\n",
    "        self.fc1 = nn.Linear(2420, 128)\n",
    "\n",
    "    def forward(self, x):\n",
    "        x = self.pool1(F.relu(self.conv1(x)))\n",
    "        x = self.pool2(F.relu(self.conv2(x)))\n",
    "        x = torch.flatten(x, 1)\n",
    "        x = self.fc1(x)\n",
    "        x = F.relu(x)\n",
    "        output = F.log_softmax(x, dim=1)\n",
    "        return output\n",
    "\n",
    "# ----------- <End Your code> -------------"
   ]
  },
  {
   "cell_type": "code",
   "execution_count": 35,
   "metadata": {
    "colab": {
     "base_uri": "https://localhost:8080/"
    },
    "id": "TxhAyKGCx_iC",
    "outputId": "6cff1c13-f3fd-4042-9146-fe6e34ffb27e"
   },
   "outputs": [
    {
     "name": "stdout",
     "output_type": "stream",
     "text": [
      "Epoch 1: [0/60000] Loss: 2.3036627769470215\n",
      "Epoch 1: [6400/60000] Loss: 0.507659375667572\n",
      "Epoch 1: [12800/60000] Loss: 0.36319172382354736\n",
      "Epoch 1: [19200/60000] Loss: 0.49460726976394653\n",
      "Epoch 1: [25600/60000] Loss: 0.21799762547016144\n",
      "Epoch 1: [32000/60000] Loss: 0.24595129489898682\n",
      "Epoch 1: [38400/60000] Loss: 0.25214171409606934\n",
      "Epoch 1: [44800/60000] Loss: 0.23277173936367035\n",
      "Epoch 1: [51200/60000] Loss: 0.08823312073945999\n",
      "Epoch 1: [57600/60000] Loss: 0.11263954639434814\n",
      "Test result on epoch 1: total samples: 10000, Avg loss: 0.164, Acc: 95.340%\n",
      "Epoch 2: [0/60000] Loss: 0.09985765814781189\n",
      "Epoch 2: [6400/60000] Loss: 0.17845597863197327\n",
      "Epoch 2: [12800/60000] Loss: 0.2772822678089142\n",
      "Epoch 2: [19200/60000] Loss: 0.33599182963371277\n",
      "Epoch 2: [25600/60000] Loss: 0.0626198872923851\n",
      "Epoch 2: [32000/60000] Loss: 0.18426555395126343\n",
      "Epoch 2: [38400/60000] Loss: 0.12364546209573746\n",
      "Epoch 2: [44800/60000] Loss: 0.15872865915298462\n",
      "Epoch 2: [51200/60000] Loss: 0.10262952744960785\n",
      "Epoch 2: [57600/60000] Loss: 0.1131037026643753\n",
      "Test result on epoch 2: total samples: 10000, Avg loss: 0.108, Acc: 96.740%\n",
      "Epoch 3: [0/60000] Loss: 0.1368207335472107\n",
      "Epoch 3: [6400/60000] Loss: 0.17074428498744965\n",
      "Epoch 3: [12800/60000] Loss: 0.1047675758600235\n",
      "Epoch 3: [19200/60000] Loss: 0.15148790180683136\n",
      "Epoch 3: [25600/60000] Loss: 0.17269252240657806\n",
      "Epoch 3: [32000/60000] Loss: 0.11413596570491791\n",
      "Epoch 3: [38400/60000] Loss: 0.08393494039773941\n",
      "Epoch 3: [44800/60000] Loss: 0.11729604005813599\n",
      "Epoch 3: [51200/60000] Loss: 0.04852864146232605\n",
      "Epoch 3: [57600/60000] Loss: 0.12906178832054138\n",
      "Test result on epoch 3: total samples: 10000, Avg loss: 0.083, Acc: 97.410%\n",
      "Finished Training after 18.9511981010437 s \n"
     ]
    }
   ],
   "source": [
    "# Let's first train the FC model. Below are there common hyperparameters.\n",
    "criterion = nn.CrossEntropyLoss()\n",
    "\n",
    "start = time.time()\n",
    "max_epoch = 3\n",
    "# ----------- <Your code> ---------------\n",
    "\n",
    "# Create the data loaders for training and testing\n",
    "batch_size_train, batch_size_test = 64, 1000\n",
    "train_loader = torch.utils.data.DataLoader(train_dataset, batch_size=batch_size_train, shuffle=True)\n",
    "test_loader = torch.utils.data.DataLoader(test_dataset, batch_size=batch_size_test, shuffle=False)\n",
    "\n",
    "classifier = OurFC()\n",
    "optimizer = optim.SGD(classifier.parameters(), lr=0.01, momentum=0.8)\n",
    "\n",
    "# Move the model to the device\n",
    "classifier.to(device)\n",
    "\n",
    "for epoch in range(1, max_epoch+1):\n",
    "  train(classifier, criterion, optimizer, train_loader, epoch)\n",
    "  test(classifier, criterion, test_loader, epoch)\n",
    "    \n",
    "# ----------- <End Your code> ---------------\n",
    "end = time.time()\n",
    "print(f'Finished Training after {end-start} s ')"
   ]
  },
  {
   "cell_type": "code",
   "execution_count": 36,
   "metadata": {
    "colab": {
     "base_uri": "https://localhost:8080/"
    },
    "id": "DX8q9Dtqylks",
    "outputId": "ab1d0667-22a8-4645-f622-73fa4dcaa1eb"
   },
   "outputs": [
    {
     "name": "stdout",
     "output_type": "stream",
     "text": [
      "Epoch 1: [0/60000] Loss: 4.821977615356445\n",
      "Epoch 1: [6400/60000] Loss: 0.2862577438354492\n",
      "Epoch 1: [12800/60000] Loss: 0.3254799544811249\n",
      "Epoch 1: [19200/60000] Loss: 0.1868068277835846\n",
      "Epoch 1: [25600/60000] Loss: 0.10389021039009094\n",
      "Epoch 1: [32000/60000] Loss: 0.09858927130699158\n",
      "Epoch 1: [38400/60000] Loss: 0.01736041158437729\n",
      "Epoch 1: [44800/60000] Loss: 0.08421144634485245\n",
      "Epoch 1: [51200/60000] Loss: 0.018595324829220772\n",
      "Epoch 1: [57600/60000] Loss: 0.021651240065693855\n",
      "Test result on epoch 1: total samples: 10000, Avg loss: 0.039, Acc: 98.710%\n",
      "Epoch 2: [0/60000] Loss: 0.011565379798412323\n",
      "Epoch 2: [6400/60000] Loss: 0.008629001677036285\n",
      "Epoch 2: [12800/60000] Loss: 0.05675356835126877\n",
      "Epoch 2: [19200/60000] Loss: 0.028941763564944267\n",
      "Epoch 2: [25600/60000] Loss: 0.03557306528091431\n",
      "Epoch 2: [32000/60000] Loss: 0.03628135100007057\n",
      "Epoch 2: [38400/60000] Loss: 0.12786263227462769\n",
      "Epoch 2: [44800/60000] Loss: 0.0820731595158577\n",
      "Epoch 2: [51200/60000] Loss: 0.04045715928077698\n",
      "Epoch 2: [57600/60000] Loss: 0.023317497223615646\n",
      "Test result on epoch 2: total samples: 10000, Avg loss: 0.039, Acc: 98.820%\n",
      "Epoch 3: [0/60000] Loss: 0.0066825347021222115\n",
      "Epoch 3: [6400/60000] Loss: 0.05618815869092941\n",
      "Epoch 3: [12800/60000] Loss: 0.014067328535020351\n",
      "Epoch 3: [19200/60000] Loss: 0.012478461489081383\n",
      "Epoch 3: [25600/60000] Loss: 0.03128328546881676\n",
      "Epoch 3: [32000/60000] Loss: 0.08801764994859695\n",
      "Epoch 3: [38400/60000] Loss: 0.03331048786640167\n",
      "Epoch 3: [44800/60000] Loss: 0.07113268971443176\n",
      "Epoch 3: [51200/60000] Loss: 0.05036716163158417\n",
      "Epoch 3: [57600/60000] Loss: 0.004219552502036095\n",
      "Test result on epoch 3: total samples: 10000, Avg loss: 0.033, Acc: 98.960%\n",
      "Finished Training after 36.4839141368866 s \n"
     ]
    }
   ],
   "source": [
    "# Let's then train the OurCNN model.\n",
    "start = time.time()\n",
    "# ----------- <Your code> ---------------\n",
    "model = OurCNN()\n",
    "# Note: SGD doesn't work well here\n",
    "optimizer = optim.Adadelta(model.parameters(), lr=1.0)\n",
    "\n",
    "# Move the model to the device\n",
    "model.to(device)\n",
    "\n",
    "for epoch in range(1, max_epoch+1):\n",
    "  train(model, criterion, optimizer, train_loader, epoch)\n",
    "  test(model, criterion, test_loader, epoch)\n",
    "# ----------- <End Your code> ---------------\n",
    "end = time.time()\n",
    "print(f'Finished Training after {end-start} s ')"
   ]
  },
  {
   "cell_type": "code",
   "execution_count": 37,
   "metadata": {
    "colab": {
     "base_uri": "https://localhost:8080/"
    },
    "id": "FIVO5T4JgA_N",
    "outputId": "854b0efe-47d3-4446-de08-4fd9382c57e7"
   },
   "outputs": [
    {
     "name": "stdout",
     "output_type": "stream",
     "text": [
      "OurFC has a total of 936330 parameters\n",
      "OurCNN has a total of 315168 parameters\n"
     ]
    }
   ],
   "source": [
    "ourfc = OurFC()\n",
    "total_params = sum(p.numel() for p in ourfc.parameters())\n",
    "print(f'OurFC has a total of {total_params} parameters')\n",
    "\n",
    "ourcnn = OurCNN()\n",
    "total_params = sum(p.numel() for p in ourcnn.parameters())\n",
    "print(f'OurCNN has a total of {total_params} parameters')"
   ]
  },
  {
   "cell_type": "markdown",
   "metadata": {
    "id": "v5oMKOrhmfpM"
   },
   "source": [
    "Questions (0 points, just for understanding): Which one has more parameters?  Which one is likely to have less computational cost when deployed? Which one took longer to train?\n",
    "\n",
    "1. The fully connected neural network has ~3x the number of parameters\n",
    "2. The CNN will likely be more computationally efficient simply because it has much fewer parameters\n",
    "3. The CNN took ~2x the amount of time to trains"
   ]
  },
  {
   "cell_type": "markdown",
   "metadata": {
    "id": "290mOBEHgEXr"
   },
   "source": [
    "## Exercise 2: Train classifier on CIFAR-10 data. (30 points)\n",
    "Now, lets move our dataset to color images. CIFAR-10 dataset is another widely used dataset. Here all images have colors, i.e each image has 3 color channels instead of only one channel in MNIST. You need to pay more attention to the dimension of the data as it passes through the layers of your network."
   ]
  },
  {
   "cell_type": "markdown",
   "metadata": {
    "id": "IHClZywoGwWt"
   },
   "source": [
    "### Task 1: Create data loaders \n",
    "* Load CIFAR10 train and test datas with appropriate composite transform where the normalize transform should be `transforms.Normalize((0.5, 0.5, 0.5), (0.5, 0.5, 0.5))])`.\n",
    "* Set up a `train_loader` and `test_loader` for the CIFAR-10 data with a batch size of 9 similar to the instructions.\n",
    "* The code below will plot a 3 x 3 subplot of images including their labels. (do not modify)"
   ]
  },
  {
   "cell_type": "code",
   "execution_count": 38,
   "metadata": {
    "colab": {
     "base_uri": "https://localhost:8080/",
     "height": 971
    },
    "id": "ANpwc7CSPlYP",
    "outputId": "78cd4c34-39a6-4f1a-9077-56089f6934ac"
   },
   "outputs": [
    {
     "name": "stdout",
     "output_type": "stream",
     "text": [
      "Files already downloaded and verified\n",
      "Files already downloaded and verified\n"
     ]
    },
    {
     "name": "stderr",
     "output_type": "stream",
     "text": [
      "/var/folders/xq/rx8kt7mx02xfd87r07v219bm0000gn/T/ipykernel_6825/1670839852.py:27: UserWarning: FigureCanvasAgg is non-interactive, and thus cannot be shown\n",
      "  fig.show()\n"
     ]
    },
    {
     "data": {
      "image/png": "[encoded data removed]",
      "text/plain": [
       "<Figure size 900x900 with 9 Axes>"
      ]
     },
     "metadata": {},
     "output_type": "display_data"
    }
   ],
   "source": [
    "classes = ('plane', 'car', 'bird', 'cat', 'deer', 'dog', 'frog', 'horse', 'ship', 'truck')\n",
    "\n",
    "# Create the appropriate transform, load/download CIFAR10 train and test datasets with transform\n",
    "# ----------- <Your code> ---------------\n",
    "transform = torchvision.transforms.Compose([torchvision.transforms.ToTensor(),\n",
    "                                            torchvision.transforms.Normalize((0.5, 0.5, 0.5), (0.5, 0.5, 0.5))])\n",
    "trainset = torchvision.datasets.CIFAR10('data', train=True, download=True, transform=transform)\n",
    "testset = torchvision.datasets.CIFAR10('data', train=False, download=True, transform=transform)\n",
    "# ----------- <End Your code> ---------------\n",
    "\n",
    "# Define trainloader and testloader\n",
    "# ----------- <Your code> ---------------\n",
    "train_loader = torch.utils.data.DataLoader(trainset, batch_size=9, shuffle=True, num_workers=2)\n",
    "test_loader = torch.utils.data.DataLoader(testset, batch_size=9, shuffle=False, num_workers=2)\n",
    "# ----------- <End Your code> ---------------\n",
    "\n",
    "# Code to display images\n",
    "batch_idx, (images, targets) = next(enumerate(train_loader)) #fix!!!!!\n",
    "fig, ax = plt.subplots(3,3,figsize = (9,9))\n",
    "for i in range(3):\n",
    "    for j in range(3):\n",
    "        image = images[i*3+j].permute(1,2,0)\n",
    "        image = image/2 + 0.5\n",
    "        ax[i,j].imshow(image)\n",
    "        ax[i,j].set_axis_off()\n",
    "        ax[i,j].set_title(f'{classes[targets[i*3+j]]}')\n",
    "fig.show()"
   ]
  },
  {
   "cell_type": "markdown",
   "metadata": {
    "id": "f0FMDyDzijEG"
   },
   "source": [
    "### Task 2: Create CNN and train it\n",
    "Set up a convolutional neural network and have your data trained on it. You have to decide all the details in your network, overall your neural network should meet the following standards to receive full credit:\n",
    "\n",
    "*   You should not use more than three convolutional layers and three fully connected layers\n",
    "*   Accuracy on the test dataset should be **above** 50%\n",
    "\n"
   ]
  },
  {
   "cell_type": "code",
   "execution_count": 39,
   "metadata": {
    "id": "a1pkwtIAzwfg"
   },
   "outputs": [],
   "source": [
    "# Create CNN network.\n",
    "# ----------- <Your code> ---------------\n",
    "class CfarCnn(nn.Module):\n",
    "    def __init__(self):\n",
    "        super().__init__()\n",
    "        self.conv1 = nn.Conv2d(3, 12, 5)\n",
    "        self.pool = nn.MaxPool2d(2, 2)\n",
    "        self.conv2 = nn.Conv2d(12, 16, 5)\n",
    "        self.fc1 = nn.Linear(16 * 5 * 5, 120)\n",
    "        self.fc2 = nn.Linear(120, 84)\n",
    "        self.fc3 = nn.Linear(84, 10)\n",
    "\n",
    "    def forward(self, x):\n",
    "        # input size = batchsize x 3 x 32 x 32\n",
    "        x = self.pool(F.relu(self.conv1(x)))    # output size = batchsize x 6 x 14 x 14\n",
    "        x = self.pool(F.relu(self.conv2(x)))    # output size = batchsize x 16 x 5 x 5\n",
    "        x = torch.flatten(x, 1)                 # output size = batchsize x 400\n",
    "        x = F.relu(self.fc1(x))                 # output size = batchsize x 120\n",
    "        x = F.relu(self.fc2(x))                 # output size = batchsize x 84\n",
    "        x = self.fc3(x)                         # output size = batchsize x 10\n",
    "        return x\n",
    "# ----------- <End Your code> ---------------"
   ]
  },
  {
   "cell_type": "code",
   "execution_count": 40,
   "metadata": {
    "colab": {
     "base_uri": "https://localhost:8080/"
    },
    "id": "cRuEf8tAlnsP",
    "outputId": "d3a51ca4-8ad6-4ae1-f93b-aa8a2976131f"
   },
   "outputs": [
    {
     "name": "stdout",
     "output_type": "stream",
     "text": [
      "Epoch 1: [0/50000] Loss: 2.321708917617798\n",
      "Epoch 1: [900/50000] Loss: 2.299635648727417\n",
      "Epoch 1: [1800/50000] Loss: 2.2978734970092773\n",
      "Epoch 1: [2700/50000] Loss: 2.290391683578491\n",
      "Epoch 1: [3600/50000] Loss: 2.298146963119507\n",
      "Epoch 1: [4500/50000] Loss: 2.295351982116699\n",
      "Epoch 1: [5400/50000] Loss: 2.296144723892212\n",
      "Epoch 1: [6300/50000] Loss: 2.28908634185791\n",
      "Epoch 1: [7200/50000] Loss: 2.2900102138519287\n",
      "Epoch 1: [8100/50000] Loss: 2.2798256874084473\n",
      "Epoch 1: [9000/50000] Loss: 2.258164167404175\n",
      "Epoch 1: [9900/50000] Loss: 2.1937971115112305\n",
      "Epoch 1: [10800/50000] Loss: 2.2859363555908203\n",
      "Epoch 1: [11700/50000] Loss: 2.2640109062194824\n",
      "Epoch 1: [12600/50000] Loss: 2.221187114715576\n",
      "Epoch 1: [13500/50000] Loss: 2.2097768783569336\n",
      "Epoch 1: [14400/50000] Loss: 1.8516954183578491\n",
      "Epoch 1: [15300/50000] Loss: 1.589654803276062\n",
      "Epoch 1: [16200/50000] Loss: 2.2060043811798096\n",
      "Epoch 1: [17100/50000] Loss: 1.932188630104065\n",
      "Epoch 1: [18000/50000] Loss: 1.7408777475357056\n",
      "Epoch 1: [18900/50000] Loss: 1.8206384181976318\n",
      "Epoch 1: [19800/50000] Loss: 1.9106794595718384\n",
      "Epoch 1: [20700/50000] Loss: 1.8558152914047241\n",
      "Epoch 1: [21600/50000] Loss: 1.4823869466781616\n",
      "Epoch 1: [22500/50000] Loss: 2.1817240715026855\n",
      "Epoch 1: [23400/50000] Loss: 2.3003766536712646\n",
      "Epoch 1: [24300/50000] Loss: 2.025707721710205\n",
      "Epoch 1: [25200/50000] Loss: 1.513455867767334\n",
      "Epoch 1: [26100/50000] Loss: 1.4090296030044556\n",
      "Epoch 1: [27000/50000] Loss: 1.6202081441879272\n",
      "Epoch 1: [27900/50000] Loss: 1.9843851327896118\n",
      "Epoch 1: [28800/50000] Loss: 2.168372392654419\n",
      "Epoch 1: [29700/50000] Loss: 1.6755865812301636\n",
      "Epoch 1: [30600/50000] Loss: 1.7604559659957886\n",
      "Epoch 1: [31500/50000] Loss: 1.9732818603515625\n",
      "Epoch 1: [32400/50000] Loss: 1.700818419456482\n",
      "Epoch 1: [33300/50000] Loss: 1.5055220127105713\n",
      "Epoch 1: [34200/50000] Loss: 1.38328218460083\n",
      "Epoch 1: [35100/50000] Loss: 1.9576326608657837\n",
      "Epoch 1: [36000/50000] Loss: 1.7075934410095215\n",
      "Epoch 1: [36900/50000] Loss: 1.516133189201355\n",
      "Epoch 1: [37800/50000] Loss: 1.9411119222640991\n",
      "Epoch 1: [38700/50000] Loss: 1.2252225875854492\n",
      "Epoch 1: [39600/50000] Loss: 1.7805311679840088\n",
      "Epoch 1: [40500/50000] Loss: 1.6912747621536255\n",
      "Epoch 1: [41400/50000] Loss: 1.7717127799987793\n",
      "Epoch 1: [42300/50000] Loss: 1.1294394731521606\n",
      "Epoch 1: [43200/50000] Loss: 1.7092843055725098\n",
      "Epoch 1: [44100/50000] Loss: 1.9570494890213013\n",
      "Epoch 1: [45000/50000] Loss: 1.6713416576385498\n",
      "Epoch 1: [45900/50000] Loss: 1.5023714303970337\n",
      "Epoch 1: [46800/50000] Loss: 1.5392595529556274\n",
      "Epoch 1: [47700/50000] Loss: 1.3173969984054565\n",
      "Epoch 1: [48600/50000] Loss: 1.1450313329696655\n",
      "Epoch 1: [49500/50000] Loss: 2.0282881259918213\n",
      "Epoch 2: [0/50000] Loss: 1.8778436183929443\n",
      "Epoch 2: [900/50000] Loss: 1.6356370449066162\n",
      "Epoch 2: [1800/50000] Loss: 1.5758452415466309\n",
      "Epoch 2: [2700/50000] Loss: 1.347749948501587\n",
      "Epoch 2: [3600/50000] Loss: 0.9537296295166016\n",
      "Epoch 2: [4500/50000] Loss: 1.6455636024475098\n",
      "Epoch 2: [5400/50000] Loss: 1.3506660461425781\n",
      "Epoch 2: [6300/50000] Loss: 1.8846770524978638\n",
      "Epoch 2: [7200/50000] Loss: 1.649356484413147\n",
      "Epoch 2: [8100/50000] Loss: 1.0162817239761353\n",
      "Epoch 2: [9000/50000] Loss: 1.1660022735595703\n",
      "Epoch 2: [9900/50000] Loss: 1.8109067678451538\n",
      "Epoch 2: [10800/50000] Loss: 1.7444498538970947\n",
      "Epoch 2: [11700/50000] Loss: 2.026499032974243\n",
      "Epoch 2: [12600/50000] Loss: 1.5067088603973389\n",
      "Epoch 2: [13500/50000] Loss: 1.495421290397644\n",
      "Epoch 2: [14400/50000] Loss: 1.5104856491088867\n",
      "Epoch 2: [15300/50000] Loss: 1.243625521659851\n",
      "Epoch 2: [16200/50000] Loss: 1.0046625137329102\n",
      "Epoch 2: [17100/50000] Loss: 1.5360863208770752\n",
      "Epoch 2: [18000/50000] Loss: 1.2957812547683716\n",
      "Epoch 2: [18900/50000] Loss: 0.9973399043083191\n",
      "Epoch 2: [19800/50000] Loss: 1.5260810852050781\n",
      "Epoch 2: [20700/50000] Loss: 1.508498191833496\n",
      "Epoch 2: [21600/50000] Loss: 1.8290362358093262\n",
      "Epoch 2: [22500/50000] Loss: 1.1669437885284424\n",
      "Epoch 2: [23400/50000] Loss: 1.3006129264831543\n",
      "Epoch 2: [24300/50000] Loss: 0.9979870915412903\n",
      "Epoch 2: [25200/50000] Loss: 1.0801255702972412\n",
      "Epoch 2: [26100/50000] Loss: 1.2413626909255981\n",
      "Epoch 2: [27000/50000] Loss: 1.7255421876907349\n",
      "Epoch 2: [27900/50000] Loss: 1.142411231994629\n",
      "Epoch 2: [28800/50000] Loss: 1.4030568599700928\n",
      "Epoch 2: [29700/50000] Loss: 1.081099271774292\n",
      "Epoch 2: [30600/50000] Loss: 0.8693921566009521\n",
      "Epoch 2: [31500/50000] Loss: 1.2664532661437988\n",
      "Epoch 2: [32400/50000] Loss: 1.612056016921997\n",
      "Epoch 2: [33300/50000] Loss: 1.4307501316070557\n",
      "Epoch 2: [34200/50000] Loss: 1.8679612874984741\n",
      "Epoch 2: [35100/50000] Loss: 0.9278923869132996\n",
      "Epoch 2: [36000/50000] Loss: 1.0833483934402466\n",
      "Epoch 2: [36900/50000] Loss: 1.4514213800430298\n",
      "Epoch 2: [37800/50000] Loss: 1.9627469778060913\n",
      "Epoch 2: [38700/50000] Loss: 2.0789670944213867\n",
      "Epoch 2: [39600/50000] Loss: 1.2360973358154297\n",
      "Epoch 2: [40500/50000] Loss: 1.0814067125320435\n",
      "Epoch 2: [41400/50000] Loss: 1.2454876899719238\n",
      "Epoch 2: [42300/50000] Loss: 1.3109993934631348\n",
      "Epoch 2: [43200/50000] Loss: 1.7124848365783691\n",
      "Epoch 2: [44100/50000] Loss: 0.8191314339637756\n",
      "Epoch 2: [45000/50000] Loss: 1.2850565910339355\n",
      "Epoch 2: [45900/50000] Loss: 1.1655189990997314\n",
      "Epoch 2: [46800/50000] Loss: 1.6276681423187256\n",
      "Epoch 2: [47700/50000] Loss: 1.8680506944656372\n",
      "Epoch 2: [48600/50000] Loss: 1.571911096572876\n",
      "Epoch 2: [49500/50000] Loss: 1.3375544548034668\n",
      "Epoch 3: [0/50000] Loss: 0.5831671357154846\n",
      "Epoch 3: [900/50000] Loss: 1.1166114807128906\n",
      "Epoch 3: [1800/50000] Loss: 1.0220412015914917\n",
      "Epoch 3: [2700/50000] Loss: 1.6020028591156006\n",
      "Epoch 3: [3600/50000] Loss: 1.463404655456543\n",
      "Epoch 3: [4500/50000] Loss: 1.4514434337615967\n",
      "Epoch 3: [5400/50000] Loss: 1.4257850646972656\n",
      "Epoch 3: [6300/50000] Loss: 0.5743331909179688\n",
      "Epoch 3: [7200/50000] Loss: 1.3003188371658325\n",
      "Epoch 3: [8100/50000] Loss: 1.1367636919021606\n",
      "Epoch 3: [9000/50000] Loss: 1.3123995065689087\n",
      "Epoch 3: [9900/50000] Loss: 1.2242037057876587\n",
      "Epoch 3: [10800/50000] Loss: 1.4720933437347412\n",
      "Epoch 3: [11700/50000] Loss: 1.397192120552063\n",
      "Epoch 3: [12600/50000] Loss: 1.597601056098938\n",
      "Epoch 3: [13500/50000] Loss: 1.6822606325149536\n",
      "Epoch 3: [14400/50000] Loss: 1.300584316253662\n",
      "Epoch 3: [15300/50000] Loss: 1.7020220756530762\n",
      "Epoch 3: [16200/50000] Loss: 1.2736577987670898\n",
      "Epoch 3: [17100/50000] Loss: 1.4700736999511719\n",
      "Epoch 3: [18000/50000] Loss: 0.779529869556427\n",
      "Epoch 3: [18900/50000] Loss: 1.005055546760559\n",
      "Epoch 3: [19800/50000] Loss: 1.0191023349761963\n",
      "Epoch 3: [20700/50000] Loss: 1.3922312259674072\n",
      "Epoch 3: [21600/50000] Loss: 1.583356261253357\n",
      "Epoch 3: [22500/50000] Loss: 0.8319861888885498\n",
      "Epoch 3: [23400/50000] Loss: 1.4574971199035645\n",
      "Epoch 3: [24300/50000] Loss: 0.9409314393997192\n",
      "Epoch 3: [25200/50000] Loss: 1.3658194541931152\n",
      "Epoch 3: [26100/50000] Loss: 0.984150230884552\n",
      "Epoch 3: [27000/50000] Loss: 1.4271997213363647\n",
      "Epoch 3: [27900/50000] Loss: 1.1687589883804321\n",
      "Epoch 3: [28800/50000] Loss: 1.2601910829544067\n",
      "Epoch 3: [29700/50000] Loss: 0.6778614521026611\n",
      "Epoch 3: [30600/50000] Loss: 1.5910258293151855\n",
      "Epoch 3: [31500/50000] Loss: 1.3889461755752563\n",
      "Epoch 3: [32400/50000] Loss: 0.6454980373382568\n",
      "Epoch 3: [33300/50000] Loss: 0.859140157699585\n",
      "Epoch 3: [34200/50000] Loss: 0.9297245740890503\n",
      "Epoch 3: [35100/50000] Loss: 1.4766268730163574\n",
      "Epoch 3: [36000/50000] Loss: 1.2971596717834473\n",
      "Epoch 3: [36900/50000] Loss: 1.406444787979126\n",
      "Epoch 3: [37800/50000] Loss: 1.1855318546295166\n",
      "Epoch 3: [38700/50000] Loss: 0.9315974116325378\n",
      "Epoch 3: [39600/50000] Loss: 1.0091110467910767\n",
      "Epoch 3: [40500/50000] Loss: 1.1702919006347656\n",
      "Epoch 3: [41400/50000] Loss: 1.0228756666183472\n",
      "Epoch 3: [42300/50000] Loss: 1.1787364482879639\n",
      "Epoch 3: [43200/50000] Loss: 1.3652215003967285\n",
      "Epoch 3: [44100/50000] Loss: 1.0535550117492676\n",
      "Epoch 3: [45000/50000] Loss: 1.711564302444458\n",
      "Epoch 3: [45900/50000] Loss: 0.9721580147743225\n",
      "Epoch 3: [46800/50000] Loss: 1.3176251649856567\n",
      "Epoch 3: [47700/50000] Loss: 1.340333104133606\n",
      "Epoch 3: [48600/50000] Loss: 1.4332070350646973\n",
      "Epoch 3: [49500/50000] Loss: 1.2777760028839111\n",
      "Epoch 4: [0/50000] Loss: 1.0615335702896118\n",
      "Epoch 4: [900/50000] Loss: 1.4185848236083984\n",
      "Epoch 4: [1800/50000] Loss: 0.6444305181503296\n",
      "Epoch 4: [2700/50000] Loss: 0.6919461488723755\n",
      "Epoch 4: [3600/50000] Loss: 0.6487124562263489\n",
      "Epoch 4: [4500/50000] Loss: 0.7217295169830322\n",
      "Epoch 4: [5400/50000] Loss: 1.4574980735778809\n",
      "Epoch 4: [6300/50000] Loss: 0.5107339024543762\n",
      "Epoch 4: [7200/50000] Loss: 0.7577032446861267\n",
      "Epoch 4: [8100/50000] Loss: 1.6369519233703613\n",
      "Epoch 4: [9000/50000] Loss: 1.300873875617981\n",
      "Epoch 4: [9900/50000] Loss: 1.1880792379379272\n",
      "Epoch 4: [10800/50000] Loss: 1.491941213607788\n",
      "Epoch 4: [11700/50000] Loss: 0.961120069026947\n",
      "Epoch 4: [12600/50000] Loss: 1.2385045289993286\n",
      "Epoch 4: [13500/50000] Loss: 0.899552583694458\n",
      "Epoch 4: [14400/50000] Loss: 1.3693711757659912\n",
      "Epoch 4: [15300/50000] Loss: 0.5101864337921143\n",
      "Epoch 4: [16200/50000] Loss: 0.5591734647750854\n",
      "Epoch 4: [17100/50000] Loss: 1.2177468538284302\n",
      "Epoch 4: [18000/50000] Loss: 1.418099284172058\n",
      "Epoch 4: [18900/50000] Loss: 0.8075178265571594\n",
      "Epoch 4: [19800/50000] Loss: 1.0885252952575684\n",
      "Epoch 4: [20700/50000] Loss: 0.6750888824462891\n",
      "Epoch 4: [21600/50000] Loss: 1.3219999074935913\n",
      "Epoch 4: [22500/50000] Loss: 1.3941826820373535\n",
      "Epoch 4: [23400/50000] Loss: 0.752391517162323\n",
      "Epoch 4: [24300/50000] Loss: 1.230473518371582\n",
      "Epoch 4: [25200/50000] Loss: 0.985683023929596\n",
      "Epoch 4: [26100/50000] Loss: 2.1047449111938477\n",
      "Epoch 4: [27000/50000] Loss: 1.0634948015213013\n",
      "Epoch 4: [27900/50000] Loss: 1.088921070098877\n",
      "Epoch 4: [28800/50000] Loss: 1.4579046964645386\n",
      "Epoch 4: [29700/50000] Loss: 0.7629912495613098\n",
      "Epoch 4: [30600/50000] Loss: 0.7970932722091675\n",
      "Epoch 4: [31500/50000] Loss: 1.1444460153579712\n",
      "Epoch 4: [32400/50000] Loss: 0.8442953824996948\n",
      "Epoch 4: [33300/50000] Loss: 1.350523591041565\n",
      "Epoch 4: [34200/50000] Loss: 0.6590205430984497\n",
      "Epoch 4: [35100/50000] Loss: 1.0709158182144165\n",
      "Epoch 4: [36000/50000] Loss: 1.0897608995437622\n",
      "Epoch 4: [36900/50000] Loss: 1.3507342338562012\n",
      "Epoch 4: [37800/50000] Loss: 0.5025115609169006\n",
      "Epoch 4: [38700/50000] Loss: 1.5453457832336426\n",
      "Epoch 4: [39600/50000] Loss: 1.1982403993606567\n",
      "Epoch 4: [40500/50000] Loss: 1.1730624437332153\n",
      "Epoch 4: [41400/50000] Loss: 0.7533056735992432\n",
      "Epoch 4: [42300/50000] Loss: 1.0699715614318848\n",
      "Epoch 4: [43200/50000] Loss: 0.7052624821662903\n",
      "Epoch 4: [44100/50000] Loss: 0.7078002095222473\n",
      "Epoch 4: [45000/50000] Loss: 0.8418609499931335\n",
      "Epoch 4: [45900/50000] Loss: 0.9645633697509766\n",
      "Epoch 4: [46800/50000] Loss: 0.7785659432411194\n",
      "Epoch 4: [47700/50000] Loss: 1.2665808200836182\n",
      "Epoch 4: [48600/50000] Loss: 0.48794025182724\n",
      "Epoch 4: [49500/50000] Loss: 0.8028090000152588\n",
      "Test result on epoch 4: total samples: 10000, Avg loss: 1.070, Acc: 61.870%\n",
      "Finished Training after 158.98181295394897 s \n"
     ]
    }
   ],
   "source": [
    "# Train your neural network here.\n",
    "start = time.time()\n",
    "max_epoch = 4\n",
    "# ----------- <Your code> ---------------\n",
    "# Define net\n",
    "net = CfarCnn()\n",
    "# Define loss function\n",
    "criterion = nn.CrossEntropyLoss()\n",
    "# Define optimizer\n",
    "optimizer = optim.SGD(net.parameters(), lr=0.001, momentum=0.9)\n",
    "# Move the model to the device\n",
    "net.to(device)\n",
    "# Training loop\n",
    "for epoch in range(1, max_epoch+1):\n",
    "  train(net, criterion, optimizer, train_loader, epoch)\n",
    "# ----------- <End Your code> ---------------\n",
    "output = test(net, criterion, test_loader, epoch)\n",
    "end = time.time()\n",
    "print(f'Finished Training after {end-start} s ')"
   ]
  },
  {
   "cell_type": "markdown",
   "metadata": {
    "id": "hS1mXr9Cl6pM"
   },
   "source": [
    "### Task 3: Plot misclassified test images\n",
    "Plot some misclassified images in your test dataset:\n",
    "\n",
    "*   select three images that are **misclassified** by your neural network\n",
    "*   label each images with true label and predicted label\n",
    "*   use `detach().cpu()` when plotting images if the image is in gpu"
   ]
  },
  {
   "cell_type": "code",
   "execution_count": 41,
   "metadata": {
    "colab": {
     "base_uri": "https://localhost:8080/",
     "height": 909
    },
    "id": "xd8vWof8nIHw",
    "outputId": "c5648ba6-ad1a-46dc-f465-8ebe63669b25"
   },
   "outputs": [
    {
     "data": {
      "image/png": "[encoded data removed]",
      "text/plain": [
       "<Figure size 1200x600 with 3 Axes>"
      ]
     },
     "metadata": {},
     "output_type": "display_data"
    }
   ],
   "source": [
    "total_images = 3\n",
    "predictions = output['prediction']\n",
    "targets = torch.tensor(testset.targets)\n",
    "# ----------- <Your code> ---------------\n",
    "# Compare predictions with the ground truth labels to generate a binary mask\n",
    "correct = predictions.detach().cpu().eq(targets.data.view_as(predictions))\n",
    "\n",
    "# Find the indices of the misclassified images\n",
    "misclassified_indices = torch.where(~correct)[0]\n",
    "\n",
    "# Select N misclassified images randomly\n",
    "torch.manual_seed(0)\n",
    "num_misclassified = 3\n",
    "misclassified_indices = misclassified_indices[torch.randperm(len(misclassified_indices))[:num_misclassified]]\n",
    "\n",
    "# Load the first x misclassified images and their labels\n",
    "misclassified_images = torch.stack([testset[i][0] for i in misclassified_indices])\n",
    "misclassified_labels = torch.stack([targets[i] for i in misclassified_indices])\n",
    "\n",
    "# Plot the images and display the true and predicted classes\n",
    "fig, ax = plt.subplots(1, num_misclassified, figsize=(12, 6))\n",
    "for i in range(num_misclassified):\n",
    "    image = misclassified_images[i].permute(1,2,0)\n",
    "    image = image/2 + 0.5\n",
    "    ax[i].imshow(image)\n",
    "    ax[i].set_title(f'True: {classes[misclassified_labels[i]]}, Predicted: {classes[predictions[misclassified_indices[i]]]}')\n",
    "    ax[i].axis('off')\n",
    "# ----------- <End Your code> ---------------    "
   ]
  },
  {
   "cell_type": "markdown",
   "metadata": {
    "id": "W2ZVJYKtL5yN"
   },
   "source": [
    "Questions (0 points): Are the mis-classified images also misleading to human eyes?\n",
    "\n",
    "Yes, although some of the correctly predicted ones are also misleading."
   ]
  },
  {
   "cell_type": "markdown",
   "metadata": {
    "id": "INN54zXpTcZw"
   },
   "source": [
    "## Exercise 3: Transfer Learning (30 points)"
   ]
  },
  {
   "cell_type": "markdown",
   "metadata": {
    "id": "IgDHswfp0k7m"
   },
   "source": [
    "In practice, people won't train an entire CNN from scratch, because it is relatively rare to have a dataset of sufficient size (or sufficient computational power). Instead, it is common to pretrain a CNN on a very large dataset and then use the CNN either as an initialization or a fixed feature extractor for the task of interest.\n",
    "\n",
    "In this task, you will learn how to use a pretrained CNN for CIFAR-10 classification."
   ]
  },
  {
   "cell_type": "markdown",
   "metadata": {
    "id": "f21CjwoW8ty5"
   },
   "source": [
    "### Task1: Load pretrained model"
   ]
  },
  {
   "cell_type": "markdown",
   "metadata": {
    "id": "VZ-21Pv183TX"
   },
   "source": [
    "`torchvision.models` (https://pytorch.org/vision/stable/models.html) contains definitions of models for addressing different tasks, including: image classification, pixelwise semantic segmentation, object detection, instance segmentation, person keypoint detection and video classification.\n",
    "\n",
    "First, you should load the **pretrained** ResNet-18 that has already been trained on [ImageNet](https://www.image-net.org/) using `torchvision.models`. If you are interested in more details about Resnet-18, read this paper https://arxiv.org/pdf/1512.03385.pdf."
   ]
  },
  {
   "cell_type": "code",
   "execution_count": 42,
   "metadata": {
    "colab": {
     "base_uri": "https://localhost:8080/",
     "height": 161,
     "referenced_widgets": [
      "430081d6df5049a2b5530ce3bf17ff94",
      "9eac0fcc879446c09fe8cc7c53994a9c",
      "74a32a7aa66b404592ccfcb4ab23638c",
      "3b7a2dd24d2c44868d17432585b42af8",
      "b7a61ef638544ac4aa995fc9ccab5234",
      "d356039223714c2b97ed2eca0a1a3192",
      "c831226c444c4ced8027de2261592fbc",
      "75ec57d5ab4d4db7889e4c1b888b632c",
      "b7c2e1284d3e470482b3bb304353c4a9",
      "fdc0446b5a8b40ef83257dff35a18281",
      "1172ab15cfca49dfb38e20ebdb203815"
     ]
    },
    "id": "KaHP0VfAVuDY",
    "outputId": "bedb115f-3b56-4218-de3b-3ea20847a6db"
   },
   "outputs": [
    {
     "name": "stderr",
     "output_type": "stream",
     "text": [
      "/Users/crich/Development/School/ECE5700-AI/venv/lib/python3.12/site-packages/torchvision/models/_utils.py:208: UserWarning: The parameter 'pretrained' is deprecated since 0.13 and may be removed in the future, please use 'weights' instead.\n",
      "  warnings.warn(\n",
      "/Users/crich/Development/School/ECE5700-AI/venv/lib/python3.12/site-packages/torchvision/models/_utils.py:223: UserWarning: Arguments other than a weight enum or `None` for 'weights' are deprecated since 0.13 and may be removed in the future. The current behavior is equivalent to passing `weights=ResNet18_Weights.IMAGENET1K_V1`. You can also use `weights=ResNet18_Weights.DEFAULT` to get the most up-to-date weights.\n",
      "  warnings.warn(msg)\n"
     ]
    }
   ],
   "source": [
    "resnet18 = models.resnet18(pretrained=True)\n",
    "resnet18 = resnet18.to(device)"
   ]
  },
  {
   "cell_type": "markdown",
   "metadata": {
    "id": "MtQkZUZH84q8"
   },
   "source": [
    "### Task2: Create data loaders for CIFAR-10"
   ]
  },
  {
   "cell_type": "markdown",
   "metadata": {
    "id": "GTlRo-CJ4GQD"
   },
   "source": [
    "Then you need to create a modified dataset and dataloader for CIFAR-10. Importantly, the model you load has been trained on **ImageNet** and it expects inputs as mini-batches of 3-channel RGB images of shape (3 x H x W), where H and W are expected to be **at least** 224. So you need to preprocess the CIFAR-10 data to make sure it has a height and width of 224. Thus, you should add a transform when loading the CIFAR10 dataset (see [`torchvision.transforms.Resize`](https://pytorch.org/vision/stable/transforms.html#torchvision.transforms.Resize)).\n",
    "This should be added appropriately to the `transform` you created in a previous task."
   ]
  },
  {
   "cell_type": "code",
   "execution_count": 43,
   "metadata": {
    "colab": {
     "base_uri": "https://localhost:8080/"
    },
    "id": "lhFys7OQV1Wj",
    "outputId": "65dfd1d0-8a21-4b4b-bb05-92ba40d17d8c"
   },
   "outputs": [
    {
     "name": "stdout",
     "output_type": "stream",
     "text": [
      "Files already downloaded and verified\n",
      "Files already downloaded and verified\n"
     ]
    }
   ],
   "source": [
    "# Create your dataloader here\n",
    "# ----------- <Your code> ---------------\n",
    "# Define the transform for cifar10 so that it is the correct size for resnet18\n",
    "transform = torchvision.transforms.Compose([torchvision.transforms.Resize((224, 224)),\n",
    "                                           torchvision.transforms.ToTensor(),\n",
    "                                           torchvision.transforms.Normalize((0.5, 0.5, 0.5), (0.5, 0.5, 0.5))])\n",
    "\n",
    "trainset = torchvision.datasets.CIFAR10('data', train=True, download=True, transform=transform)\n",
    "testset = torchvision.datasets.CIFAR10('data', train=False, download=True, transform=transform)\n",
    "\n",
    "train_loader = torch.utils.data.DataLoader(trainset, batch_size=64, shuffle=True, num_workers=2)\n",
    "test_loader = torch.utils.data.DataLoader(testset, batch_size=64, shuffle=False, num_workers=2)\n",
    "# ----------- <End Your code> ---------------"
   ]
  },
  {
   "cell_type": "markdown",
   "metadata": {
    "id": "k8nR_aBi9Atb"
   },
   "source": [
    "### Task3: Classify test data on pretrained model"
   ]
  },
  {
   "cell_type": "markdown",
   "metadata": {
    "id": "N8IXXu-J9grR"
   },
   "source": [
    "Use the model you load to classify the **test** CIFAR-10 data and print out the test accuracy.\n",
    "\n",
    "Don't be surprised if the accuracy is bad!"
   ]
  },
  {
   "cell_type": "code",
   "execution_count": 44,
   "metadata": {
    "colab": {
     "base_uri": "https://localhost:8080/"
    },
    "id": "JOuCodyJ4FYp",
    "outputId": "dccae680-b183-4126-fa77-502b700472ec"
   },
   "outputs": [
    {
     "name": "stdout",
     "output_type": "stream",
     "text": [
      "Test result on epoch 0: total samples: 10000, Avg loss: 11.707, Acc: 0.030%\n"
     ]
    }
   ],
   "source": [
    "# ----------- <Your code> ---------------\n",
    "criterion = nn.CrossEntropyLoss()\n",
    "test(resnet18, criterion, test_loader);\n",
    "# ----------- <End Your code> ---------------"
   ]
  },
  {
   "cell_type": "markdown",
   "metadata": {
    "id": "ETLezHR0-ByE"
   },
   "source": [
    "### Task 4: Fine-tune (i.e., update) the pretrained model for CIFAR-10"
   ]
  },
  {
   "cell_type": "markdown",
   "metadata": {
    "id": "BbQrsL-U-Faq"
   },
   "source": [
    "Now try to improve the test accuracy. We offer several possible solutions:\n",
    "\n",
    "(1) You can try to directly continue to train the model you load with the CIFAR-10 training data. \n",
    "\n",
    "(2) For efficiency, you can try to freeze part of the parameters of the loaded models. For example, you can first freeze all parameters by\n",
    "\n",
    "```\n",
    "for param in model.parameters():\n",
    "    param.requires_grad = False\n",
    "```\n",
    "and then unfreeze the last few layers by setting `somelayer.requires_grad=True`.\n",
    "\n",
    "You are also welcome to try any other approach you can think of.\n",
    "\n",
    "\n",
    "**Note:** You must print out the test accuracy and to get full credits, the test accuracy should be at least **80%**."
   ]
  },
  {
   "cell_type": "code",
   "execution_count": 45,
   "metadata": {
    "colab": {
     "base_uri": "https://localhost:8080/"
    },
    "id": "zaA_dukw-hLt",
    "outputId": "1fc99f55-9f5b-452e-d7cb-5577ba685808"
   },
   "outputs": [
    {
     "name": "stdout",
     "output_type": "stream",
     "text": [
      "Epoch 1: [0/50000] Loss: 2.455737352371216\n",
      "Epoch 1: [6400/50000] Loss: 1.8351480960845947\n",
      "Epoch 1: [12800/50000] Loss: 1.4284050464630127\n",
      "Epoch 1: [19200/50000] Loss: 1.1470718383789062\n",
      "Epoch 1: [25600/50000] Loss: 1.1097432374954224\n",
      "Epoch 1: [32000/50000] Loss: 0.8831242918968201\n",
      "Epoch 1: [38400/50000] Loss: 0.7232311367988586\n",
      "Epoch 1: [44800/50000] Loss: 0.806818962097168\n",
      "Epoch 2: [0/50000] Loss: 1.260986566543579\n",
      "Epoch 2: [6400/50000] Loss: 0.6820101737976074\n",
      "Epoch 2: [12800/50000] Loss: 0.5606314539909363\n",
      "Epoch 2: [19200/50000] Loss: 0.4148138761520386\n",
      "Epoch 2: [25600/50000] Loss: 0.7936642169952393\n",
      "Epoch 2: [32000/50000] Loss: 0.8733022212982178\n",
      "Epoch 2: [38400/50000] Loss: 0.7558035850524902\n",
      "Epoch 2: [44800/50000] Loss: 0.3233976364135742\n",
      "Epoch 3: [0/50000] Loss: 0.3677864670753479\n",
      "Epoch 3: [6400/50000] Loss: 0.6645601987838745\n",
      "Epoch 3: [12800/50000] Loss: 0.3766672611236572\n",
      "Epoch 3: [19200/50000] Loss: 0.4428384304046631\n",
      "Epoch 3: [25600/50000] Loss: 0.4343269467353821\n",
      "Epoch 3: [32000/50000] Loss: 0.6250228881835938\n",
      "Epoch 3: [38400/50000] Loss: 0.3310738205909729\n",
      "Epoch 3: [44800/50000] Loss: 0.31316056847572327\n",
      "Epoch 4: [0/50000] Loss: 0.23196682333946228\n",
      "Epoch 4: [6400/50000] Loss: 0.3075266480445862\n",
      "Epoch 4: [12800/50000] Loss: 0.36879056692123413\n",
      "Epoch 4: [19200/50000] Loss: 0.29604414105415344\n",
      "Epoch 4: [25600/50000] Loss: 0.17277595400810242\n",
      "Epoch 4: [32000/50000] Loss: 0.1835363805294037\n",
      "Epoch 4: [38400/50000] Loss: 0.3098328113555908\n",
      "Epoch 4: [44800/50000] Loss: 0.4252855181694031\n",
      "Epoch 5: [0/50000] Loss: 0.08815842866897583\n",
      "Epoch 5: [6400/50000] Loss: 0.08945371210575104\n",
      "Epoch 5: [12800/50000] Loss: 0.07851637899875641\n",
      "Epoch 5: [19200/50000] Loss: 0.09542998671531677\n",
      "Epoch 5: [25600/50000] Loss: 0.19645436108112335\n",
      "Epoch 5: [32000/50000] Loss: 0.044943712651729584\n",
      "Epoch 5: [38400/50000] Loss: 0.30096471309661865\n",
      "Epoch 5: [44800/50000] Loss: 0.045926935970783234\n",
      "Epoch 6: [0/50000] Loss: 0.3136380910873413\n",
      "Epoch 6: [6400/50000] Loss: 0.07231145352125168\n",
      "Epoch 6: [12800/50000] Loss: 0.09214847534894943\n",
      "Epoch 6: [19200/50000] Loss: 0.07290101051330566\n",
      "Epoch 6: [25600/50000] Loss: 0.04917777329683304\n",
      "Epoch 6: [32000/50000] Loss: 0.056960996240377426\n",
      "Epoch 6: [38400/50000] Loss: 0.05469515919685364\n",
      "Epoch 6: [44800/50000] Loss: 0.022773031145334244\n",
      "Epoch 7: [0/50000] Loss: 0.0035079626832157373\n",
      "Epoch 7: [6400/50000] Loss: 0.06529614329338074\n",
      "Epoch 7: [12800/50000] Loss: 0.010735446587204933\n",
      "Epoch 7: [19200/50000] Loss: 0.0036503742448985577\n",
      "Epoch 7: [25600/50000] Loss: 0.01040071714669466\n",
      "Epoch 7: [32000/50000] Loss: 0.003284197300672531\n",
      "Epoch 7: [38400/50000] Loss: 0.05746166780591011\n",
      "Epoch 7: [44800/50000] Loss: 0.023919574916362762\n",
      "Epoch 8: [0/50000] Loss: 0.08828301727771759\n",
      "Epoch 8: [6400/50000] Loss: 0.009974498301744461\n",
      "Epoch 8: [12800/50000] Loss: 0.0035578501410782337\n",
      "Epoch 8: [19200/50000] Loss: 0.0002758373157121241\n",
      "Epoch 8: [25600/50000] Loss: 0.045225657522678375\n",
      "Epoch 8: [32000/50000] Loss: 0.002103306818753481\n",
      "Epoch 8: [38400/50000] Loss: 0.005095007363706827\n",
      "Epoch 8: [44800/50000] Loss: 0.005901057738810778\n",
      "Epoch 9: [0/50000] Loss: 0.0007321221055462956\n",
      "Epoch 9: [6400/50000] Loss: 0.0004380677128210664\n",
      "Epoch 9: [12800/50000] Loss: 0.00013520810171030462\n",
      "Epoch 9: [19200/50000] Loss: 0.0002504517906345427\n",
      "Epoch 9: [25600/50000] Loss: 0.00814188364893198\n",
      "Epoch 9: [32000/50000] Loss: 1.1301859558443539e-05\n",
      "Epoch 9: [38400/50000] Loss: 0.0019423068733885884\n",
      "Epoch 9: [44800/50000] Loss: 0.0013238276587799191\n",
      "Epoch 10: [0/50000] Loss: 0.049948640167713165\n",
      "Epoch 10: [6400/50000] Loss: 0.0002620444865897298\n",
      "Epoch 10: [12800/50000] Loss: 0.0003274405898991972\n",
      "Epoch 10: [19200/50000] Loss: 9.421687718713656e-05\n",
      "Epoch 10: [25600/50000] Loss: 0.0003297037910670042\n",
      "Epoch 10: [32000/50000] Loss: 0.0038742769975215197\n",
      "Epoch 10: [38400/50000] Loss: 0.0022757539991289377\n",
      "Epoch 10: [44800/50000] Loss: 0.00030583038460463285\n",
      "Test result on epoch 10: total samples: 10000, Avg loss: 0.691, Acc: 89.890%\n",
      "Finished Training after 2025.7652380466461 s \n"
     ]
    }
   ],
   "source": [
    "# Directly train the whole model.\n",
    "start = time.time()\n",
    "#----------- <Your code> ---------------\n",
    "# Replace output layer to the resnet18 model for CIFAR10\n",
    "num_ftrs = resnet18.fc.in_features\n",
    "resnet18.fc = nn.Linear(num_ftrs, 10)\n",
    "resnet18 = resnet18.to(device)\n",
    "# Train\n",
    "optimizer = optim.Adadelta(resnet18.parameters(), lr=2.0)\n",
    "scheduler = optim.lr_scheduler.ExponentialLR(optimizer, gamma=0.8)\n",
    "max_epoch = 10\n",
    "for epoch in range(1, max_epoch+1):\n",
    "  train(resnet18, criterion, optimizer, train_loader, epoch)\n",
    "  scheduler.step()\n",
    "\n",
    "# ----------- <End Your code> ---------------\n",
    "test(resnet18, criterion, test_loader, epoch)\n",
    "end = time.time()\n",
    "print(f'Finished Training after {end-start} s ')"
   ]
  },
  {
   "cell_type": "code",
   "execution_count": 46,
   "metadata": {},
   "outputs": [],
   "source": [
    "# Load another resnet18 instance, only unfreeze the outer layers. \n",
    "# ----------- <Your code> ---------------\n",
    "# Helper function to print model layers\n",
    "def print_model_layers(model: nn.Module):\n",
    "    for name, layer in model.named_modules():\n",
    "        print(name, layer)\n",
    "\n",
    "# Define model with output layer replaced for CIFAR10\n",
    "resnet18 = models.resnet18(pretrained=True)\n",
    "num_ftrs = resnet18.fc.in_features\n",
    "resnet18.fc = nn.Linear(num_ftrs, 10)\n",
    "resnet18 = resnet18.to(device)\n",
    "# print_model_layers(resnet18)\n",
    "\n",
    "# Freeze all the layers in the model\n",
    "for param in resnet18.parameters():\n",
    "    param.requires_grad = False\n",
    "\n",
    "# Unfreeze the last layer\n",
    "for param in resnet18.fc.parameters():\n",
    "    param.requires_grad = True\n",
    "# ----------- <End Your code> ---------------"
   ]
  },
  {
   "cell_type": "code",
   "execution_count": 47,
   "metadata": {
    "colab": {
     "base_uri": "https://localhost:8080/"
    },
    "id": "CY-yaF0YAyk7",
    "outputId": "300e18b4-c1dc-4448-f1d0-30dfbe608190"
   },
   "outputs": [
    {
     "name": "stdout",
     "output_type": "stream",
     "text": [
      "Epoch 1: [0/50000] Loss: 2.4513375759124756\n",
      "Epoch 1: [6400/50000] Loss: 0.8223788738250732\n",
      "Epoch 1: [12800/50000] Loss: 1.011115550994873\n",
      "Epoch 1: [19200/50000] Loss: 1.0958218574523926\n",
      "Epoch 1: [25600/50000] Loss: 0.530171811580658\n",
      "Epoch 1: [32000/50000] Loss: 0.9504736065864563\n",
      "Epoch 1: [38400/50000] Loss: 0.6550635695457458\n",
      "Epoch 1: [44800/50000] Loss: 0.865522027015686\n",
      "Epoch 2: [0/50000] Loss: 1.84061598777771\n",
      "Epoch 2: [6400/50000] Loss: 0.3884732127189636\n",
      "Epoch 2: [12800/50000] Loss: 0.7712877988815308\n",
      "Epoch 2: [19200/50000] Loss: 1.094550609588623\n",
      "Epoch 2: [25600/50000] Loss: 0.9703587293624878\n",
      "Epoch 2: [32000/50000] Loss: 0.5292966365814209\n",
      "Epoch 2: [38400/50000] Loss: 0.5936389565467834\n",
      "Epoch 2: [44800/50000] Loss: 0.43292999267578125\n",
      "Epoch 3: [0/50000] Loss: 0.767737627029419\n",
      "Epoch 3: [6400/50000] Loss: 0.690311074256897\n",
      "Epoch 3: [12800/50000] Loss: 0.5836412906646729\n",
      "Epoch 3: [19200/50000] Loss: 0.7930392026901245\n",
      "Epoch 3: [25600/50000] Loss: 0.9157977104187012\n",
      "Epoch 3: [32000/50000] Loss: 0.47803056240081787\n",
      "Epoch 3: [38400/50000] Loss: 1.0779328346252441\n",
      "Epoch 3: [44800/50000] Loss: 0.6509675979614258\n",
      "Epoch 4: [0/50000] Loss: 0.7043559551239014\n",
      "Epoch 4: [6400/50000] Loss: 0.3472605049610138\n",
      "Epoch 4: [12800/50000] Loss: 0.5977930426597595\n",
      "Epoch 4: [19200/50000] Loss: 0.5748199224472046\n",
      "Epoch 4: [25600/50000] Loss: 0.6827872395515442\n",
      "Epoch 4: [32000/50000] Loss: 0.8599730134010315\n",
      "Epoch 4: [38400/50000] Loss: 0.6672967672348022\n",
      "Epoch 4: [44800/50000] Loss: 0.7529177665710449\n",
      "Epoch 5: [0/50000] Loss: 0.732818603515625\n",
      "Epoch 5: [6400/50000] Loss: 0.44662195444107056\n",
      "Epoch 5: [12800/50000] Loss: 0.680932879447937\n",
      "Epoch 5: [19200/50000] Loss: 0.31240373849868774\n",
      "Epoch 5: [25600/50000] Loss: 0.42053958773612976\n",
      "Epoch 5: [32000/50000] Loss: 0.6184906959533691\n",
      "Epoch 5: [38400/50000] Loss: 0.39910566806793213\n",
      "Epoch 5: [44800/50000] Loss: 0.46631094813346863\n",
      "Epoch 6: [0/50000] Loss: 0.7122711539268494\n",
      "Epoch 6: [6400/50000] Loss: 0.6651718616485596\n",
      "Epoch 6: [12800/50000] Loss: 0.5851793885231018\n",
      "Epoch 6: [19200/50000] Loss: 0.4257611036300659\n",
      "Epoch 6: [25600/50000] Loss: 0.5831985473632812\n",
      "Epoch 6: [32000/50000] Loss: 0.4865630865097046\n",
      "Epoch 6: [38400/50000] Loss: 0.533503532409668\n",
      "Epoch 6: [44800/50000] Loss: 0.4893721640110016\n",
      "Epoch 7: [0/50000] Loss: 0.5157039165496826\n",
      "Epoch 7: [6400/50000] Loss: 0.551048755645752\n",
      "Epoch 7: [12800/50000] Loss: 0.7604279518127441\n",
      "Epoch 7: [19200/50000] Loss: 0.5399692058563232\n",
      "Epoch 7: [25600/50000] Loss: 0.3798537850379944\n",
      "Epoch 7: [32000/50000] Loss: 0.8176313638687134\n",
      "Epoch 7: [38400/50000] Loss: 0.5513312220573425\n",
      "Epoch 7: [44800/50000] Loss: 0.5545750856399536\n",
      "Epoch 8: [0/50000] Loss: 0.44539377093315125\n",
      "Epoch 8: [6400/50000] Loss: 0.6341750025749207\n",
      "Epoch 8: [12800/50000] Loss: 0.4548236131668091\n",
      "Epoch 8: [19200/50000] Loss: 0.567632257938385\n",
      "Epoch 8: [25600/50000] Loss: 0.6433811187744141\n",
      "Epoch 8: [32000/50000] Loss: 0.7074121236801147\n",
      "Epoch 8: [38400/50000] Loss: 0.4494427740573883\n",
      "Epoch 8: [44800/50000] Loss: 0.3641104996204376\n",
      "Epoch 9: [0/50000] Loss: 0.3231915235519409\n",
      "Epoch 9: [6400/50000] Loss: 0.7142308950424194\n",
      "Epoch 9: [12800/50000] Loss: 0.5763132572174072\n",
      "Epoch 9: [19200/50000] Loss: 0.3686150908470154\n",
      "Epoch 9: [25600/50000] Loss: 0.7408024072647095\n",
      "Epoch 9: [32000/50000] Loss: 0.5038802623748779\n",
      "Epoch 9: [38400/50000] Loss: 0.40002381801605225\n",
      "Epoch 9: [44800/50000] Loss: 0.6471608877182007\n",
      "Epoch 10: [0/50000] Loss: 0.5599645376205444\n",
      "Epoch 10: [6400/50000] Loss: 0.6520671844482422\n",
      "Epoch 10: [12800/50000] Loss: 0.35117948055267334\n",
      "Epoch 10: [19200/50000] Loss: 0.5856771469116211\n",
      "Epoch 10: [25600/50000] Loss: 0.4719190299510956\n",
      "Epoch 10: [32000/50000] Loss: 0.38351452350616455\n",
      "Epoch 10: [38400/50000] Loss: 0.37984699010849\n",
      "Epoch 10: [44800/50000] Loss: 0.9609031677246094\n",
      "Test result on epoch 0: total samples: 10000, Avg loss: 0.570, Acc: 80.830%\n",
      "Finished Training after 674.186439037323 s \n"
     ]
    }
   ],
   "source": [
    "# Train the model!!\n",
    "start = time.time()\n",
    "# ----------- <Your code> ---------------\n",
    "optimizer = optim.Adadelta(resnet18.parameters(), lr=2.0)\n",
    "scheduler = optim.lr_scheduler.ExponentialLR(optimizer, gamma=0.8)\n",
    "max_epoch = 10\n",
    "for epoch in range(1, max_epoch+1):\n",
    "  train(resnet18, criterion, optimizer, train_loader, epoch)\n",
    "  scheduler.step()\n",
    "# ----------- <End Your code> ---------------\n",
    "test(resnet18, criterion, test_loader)\n",
    "end = time.time()\n",
    "print(f'Finished Training after {end-start} s ')"
   ]
  }
 ],
 "metadata": {
  "accelerator": "GPU",
  "colab": {
   "collapsed_sections": [],
   "provenance": []
  },
  "kernelspec": {
   "display_name": "venv",
   "language": "python",
   "name": "python3"
  },
  "language_info": {
   "codemirror_mode": {
    "name": "ipython",
    "version": 3
   },
   "file_extension": ".py",
   "mimetype": "text/x-python",
   "name": "python",
   "nbconvert_exporter": "python",
   "pygments_lexer": "ipython3",
   "version": "3.12.5"
  },
  "widgets": {
   "application/vnd.jupyter.widget-state+json": {
    "1172ab15cfca49dfb38e20ebdb203815": {
     "model_module": "@jupyter-widgets/controls",
     "model_module_version": "1.5.0",
     "model_name": "DescriptionStyleModel",
     "state": {
      "_model_module": "@jupyter-widgets/controls",
      "_model_module_version": "1.5.0",
      "_model_name": "DescriptionStyleModel",
      "_view_count": null,
      "_view_module": "@jupyter-widgets/base",
      "_view_module_version": "1.2.0",
      "_view_name": "StyleView",
      "description_width": ""
     }
    },
    "3b7a2dd24d2c44868d17432585b42af8": {
     "model_module": "@jupyter-widgets/controls",
     "model_module_version": "1.5.0",
     "model_name": "HTMLModel",
     "state": {
      "_dom_classes": [],
      "_model_module": "@jupyter-widgets/controls",
      "_model_module_version": "1.5.0",
      "_model_name": "HTMLModel",
      "_view_count": null,
      "_view_module": "@jupyter-widgets/controls",
      "_view_module_version": "1.5.0",
      "_view_name": "HTMLView",
      "description": "",
      "description_tooltip": null,
      "layout": "IPY_MODEL_fdc0446b5a8b40ef83257dff35a18281",
      "placeholder": "​",
      "style": "IPY_MODEL_1172ab15cfca49dfb38e20ebdb203815",
      "value": " 44.7M/44.7M [00:00&lt;00:00, 240MB/s]"
     }
    },
    "430081d6df5049a2b5530ce3bf17ff94": {
     "model_module": "@jupyter-widgets/controls",
     "model_module_version": "1.5.0",
     "model_name": "HBoxModel",
     "state": {
      "_dom_classes": [],
      "_model_module": "@jupyter-widgets/controls",
      "_model_module_version": "1.5.0",
      "_model_name": "HBoxModel",
      "_view_count": null,
      "_view_module": "@jupyter-widgets/controls",
      "_view_module_version": "1.5.0",
      "_view_name": "HBoxView",
      "box_style": "",
      "children": [
       "IPY_MODEL_9eac0fcc879446c09fe8cc7c53994a9c",
       "IPY_MODEL_74a32a7aa66b404592ccfcb4ab23638c",
       "IPY_MODEL_3b7a2dd24d2c44868d17432585b42af8"
      ],
      "layout": "IPY_MODEL_b7a61ef638544ac4aa995fc9ccab5234"
     }
    },
    "74a32a7aa66b404592ccfcb4ab23638c": {
     "model_module": "@jupyter-widgets/controls",
     "model_module_version": "1.5.0",
     "model_name": "FloatProgressModel",
     "state": {
      "_dom_classes": [],
      "_model_module": "@jupyter-widgets/controls",
      "_model_module_version": "1.5.0",
      "_model_name": "FloatProgressModel",
      "_view_count": null,
      "_view_module": "@jupyter-widgets/controls",
      "_view_module_version": "1.5.0",
      "_view_name": "ProgressView",
      "bar_style": "success",
      "description": "",
      "description_tooltip": null,
      "layout": "IPY_MODEL_75ec57d5ab4d4db7889e4c1b888b632c",
      "max": 46830571,
      "min": 0,
      "orientation": "horizontal",
      "style": "IPY_MODEL_b7c2e1284d3e470482b3bb304353c4a9",
      "value": 46830571
     }
    },
    "75ec57d5ab4d4db7889e4c1b888b632c": {
     "model_module": "@jupyter-widgets/base",
     "model_module_version": "1.2.0",
     "model_name": "LayoutModel",
     "state": {
      "_model_module": "@jupyter-widgets/base",
      "_model_module_version": "1.2.0",
      "_model_name": "LayoutModel",
      "_view_count": null,
      "_view_module": "@jupyter-widgets/base",
      "_view_module_version": "1.2.0",
      "_view_name": "LayoutView",
      "align_content": null,
      "align_items": null,
      "align_self": null,
      "border": null,
      "bottom": null,
      "display": null,
      "flex": null,
      "flex_flow": null,
      "grid_area": null,
      "grid_auto_columns": null,
      "grid_auto_flow": null,
      "grid_auto_rows": null,
      "grid_column": null,
      "grid_gap": null,
      "grid_row": null,
      "grid_template_areas": null,
      "grid_template_columns": null,
      "grid_template_rows": null,
      "height": null,
      "justify_content": null,
      "justify_items": null,
      "left": null,
      "margin": null,
      "max_height": null,
      "max_width": null,
      "min_height": null,
      "min_width": null,
      "object_fit": null,
      "object_position": null,
      "order": null,
      "overflow": null,
      "overflow_x": null,
      "overflow_y": null,
      "padding": null,
      "right": null,
      "top": null,
      "visibility": null,
      "width": null
     }
    },
    "9eac0fcc879446c09fe8cc7c53994a9c": {
     "model_module": "@jupyter-widgets/controls",
     "model_module_version": "1.5.0",
     "model_name": "HTMLModel",
     "state": {
      "_dom_classes": [],
      "_model_module": "@jupyter-widgets/controls",
      "_model_module_version": "1.5.0",
      "_model_name": "HTMLModel",
      "_view_count": null,
      "_view_module": "@jupyter-widgets/controls",
      "_view_module_version": "1.5.0",
      "_view_name": "HTMLView",
      "description": "",
      "description_tooltip": null,
      "layout": "IPY_MODEL_d356039223714c2b97ed2eca0a1a3192",
      "placeholder": "​",
      "style": "IPY_MODEL_c831226c444c4ced8027de2261592fbc",
      "value": "100%"
     }
    },
    "b7a61ef638544ac4aa995fc9ccab5234": {
     "model_module": "@jupyter-widgets/base",
     "model_module_version": "1.2.0",
     "model_name": "LayoutModel",
     "state": {
      "_model_module": "@jupyter-widgets/base",
      "_model_module_version": "1.2.0",
      "_model_name": "LayoutModel",
      "_view_count": null,
      "_view_module": "@jupyter-widgets/base",
      "_view_module_version": "1.2.0",
      "_view_name": "LayoutView",
      "align_content": null,
      "align_items": null,
      "align_self": null,
      "border": null,
      "bottom": null,
      "display": null,
      "flex": null,
      "flex_flow": null,
      "grid_area": null,
      "grid_auto_columns": null,
      "grid_auto_flow": null,
      "grid_auto_rows": null,
      "grid_column": null,
      "grid_gap": null,
      "grid_row": null,
      "grid_template_areas": null,
      "grid_template_columns": null,
      "grid_template_rows": null,
      "height": null,
      "justify_content": null,
      "justify_items": null,
      "left": null,
      "margin": null,
      "max_height": null,
      "max_width": null,
      "min_height": null,
      "min_width": null,
      "object_fit": null,
      "object_position": null,
      "order": null,
      "overflow": null,
      "overflow_x": null,
      "overflow_y": null,
      "padding": null,
      "right": null,
      "top": null,
      "visibility": null,
      "width": null
     }
    },
    "b7c2e1284d3e470482b3bb304353c4a9": {
     "model_module": "@jupyter-widgets/controls",
     "model_module_version": "1.5.0",
     "model_name": "ProgressStyleModel",
     "state": {
      "_model_module": "@jupyter-widgets/controls",
      "_model_module_version": "1.5.0",
      "_model_name": "ProgressStyleModel",
      "_view_count": null,
      "_view_module": "@jupyter-widgets/base",
      "_view_module_version": "1.2.0",
      "_view_name": "StyleView",
      "bar_color": null,
      "description_width": ""
     }
    },
    "c831226c444c4ced8027de2261592fbc": {
     "model_module": "@jupyter-widgets/controls",
     "model_module_version": "1.5.0",
     "model_name": "DescriptionStyleModel",
     "state": {
      "_model_module": "@jupyter-widgets/controls",
      "_model_module_version": "1.5.0",
      "_model_name": "DescriptionStyleModel",
      "_view_count": null,
      "_view_module": "@jupyter-widgets/base",
      "_view_module_version": "1.2.0",
      "_view_name": "StyleView",
      "description_width": ""
     }
    },
    "d356039223714c2b97ed2eca0a1a3192": {
     "model_module": "@jupyter-widgets/base",
     "model_module_version": "1.2.0",
     "model_name": "LayoutModel",
     "state": {
      "_model_module": "@jupyter-widgets/base",
      "_model_module_version": "1.2.0",
      "_model_name": "LayoutModel",
      "_view_count": null,
      "_view_module": "@jupyter-widgets/base",
      "_view_module_version": "1.2.0",
      "_view_name": "LayoutView",
      "align_content": null,
      "align_items": null,
      "align_self": null,
      "border": null,
      "bottom": null,
      "display": null,
      "flex": null,
      "flex_flow": null,
      "grid_area": null,
      "grid_auto_columns": null,
      "grid_auto_flow": null,
      "grid_auto_rows": null,
      "grid_column": null,
      "grid_gap": null,
      "grid_row": null,
      "grid_template_areas": null,
      "grid_template_columns": null,
      "grid_template_rows": null,
      "height": null,
      "justify_content": null,
      "justify_items": null,
      "left": null,
      "margin": null,
      "max_height": null,
      "max_width": null,
      "min_height": null,
      "min_width": null,
      "object_fit": null,
      "object_position": null,
      "order": null,
      "overflow": null,
      "overflow_x": null,
      "overflow_y": null,
      "padding": null,
      "right": null,
      "top": null,
      "visibility": null,
      "width": null
     }
    },
    "fdc0446b5a8b40ef83257dff35a18281": {
     "model_module": "@jupyter-widgets/base",
     "model_module_version": "1.2.0",
     "model_name": "LayoutModel",
     "state": {
      "_model_module": "@jupyter-widgets/base",
      "_model_module_version": "1.2.0",
      "_model_name": "LayoutModel",
      "_view_count": null,
      "_view_module": "@jupyter-widgets/base",
      "_view_module_version": "1.2.0",
      "_view_name": "LayoutView",
      "align_content": null,
      "align_items": null,
      "align_self": null,
      "border": null,
      "bottom": null,
      "display": null,
      "flex": null,
      "flex_flow": null,
      "grid_area": null,
      "grid_auto_columns": null,
      "grid_auto_flow": null,
      "grid_auto_rows": null,
      "grid_column": null,
      "grid_gap": null,
      "grid_row": null,
      "grid_template_areas": null,
      "grid_template_columns": null,
      "grid_template_rows": null,
      "height": null,
      "justify_content": null,
      "justify_items": null,
      "left": null,
      "margin": null,
      "max_height": null,
      "max_width": null,
      "min_height": null,
      "min_width": null,
      "object_fit": null,
      "object_position": null,
      "order": null,
      "overflow": null,
      "overflow_x": null,
      "overflow_y": null,
      "padding": null,
      "right": null,
      "top": null,
      "visibility": null,
      "width": null
     }
    }
   }
  }
 },
 "nbformat": 4,
 "nbformat_minor": 1
}
